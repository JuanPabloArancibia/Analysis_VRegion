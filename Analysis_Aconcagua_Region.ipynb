{
 "cells": [
  {
   "cell_type": "markdown",
   "metadata": {},
   "source": [
    "# Analysis of Aconcagua Region  \n",
    "\n",
    "## Introduction/ Business Problem\n",
    "\n",
    "**Background**  \n",
    "\n",
    "Chile is actually divided in 16 regions. All this regions has differents names dependending of important zones in those locations. It usually has the name of its Capitals.\n",
    "\n",
    "1. Tarapacá\n",
    "2. Antofagasta\n",
    "3. Atacama\n",
    "4. Coquimbo\n",
    "5. Valparaíso\n",
    "6. Libertador General Bernando O'Higgins\n",
    "7. Maule\n",
    "8. Bío-Bío\n",
    "9. Araucanía\n",
    "10. Lagos\n",
    "11. Aysén\n",
    "12. Magallanes y Antártica Chilena\n",
    "10. Ñuble\n",
    "13. Region Metropolitana\n",
    "14. Los Ríos\n",
    "15. Arica y Parinacota\n",
    "16. Ñuble\n",
    "\n",
    "In this analysis I'll focus in the Valparaíso Region. Because there has been a idea of a group of persons to separate the region in 2 different regions. In other words, add a new region to the total of regions.\n",
    "This would be a option to change the reality of many people of the some cities. During all these years the city of Valparaíso (Capital of the region) and others coastal cities has been the most benefited in Public Works, Universities, the betters hospitals, etc. and is not fair, because the back cities (as the people call them) contribuing the most important part in the regional GDP. This is because the \"back cities\" have the mines and agriculture.  \n",
    "In the last report, 3 territorial alternatives were disclosed: \"Metropolitano\", \"Rural\", \"Histórica-Identitaria\".  \n",
    "I will take the \"Historica-Identitaria\" alternative since is the best option according the last report:\n",
    "\n",
    "\n",
    "<img src=\"https://img.soy-chile.cl/Fotos/2018/03/17/file_20180317131928.jpg\" width=\"500\" />\n",
    "\n",
    "**Business Problem**  \n",
    "\n",
    "In this scenario is indispensable make a analysis using machine learning tools for a visualization of diferents cases that we can identify. This project is for assist the **Corporation Aconcagua Region**  to help to make a effective decisions in other plane. I have to mention and highlight that this project focuses in most part in a turistic view(later explained). The business problem that I'm currently posing is: how could we provide a prediction for the new regions and make a balanced regions?.  \n",
    "To solve this problem, will be provided cluster the cities of the region and make corresponding tests for differents combinations in order to recommend all venues that should has all cities for a new complete regions.\n",
    "\n",
    "## Data section\n",
    "\n",
    "The data of all cities in the Valparaiso Region will be extracted from scraping a Wikipedia page (https://es.wikipedia.org/wiki/Regi%C3%B3n_de_Valpara%C3%ADso). The table with the data will be manipulate for clean all columns because it is very noise and dirty. For other hand the Valparaíso Region also has within its cities to the \"Isla de Pascua\". This city will be ignored for the project, because it is not relevant in this analysis.  \n",
    "The latitudes and longitudes of each cities we obtain from **geopy** with **Nominatim** library. This will be use for get the location from all venues in this citites using the **Foursquare** API and merged with the principal DataFrame. In Chile, the Foursquare app is not very popular and the most parts of the venues are restaurants, hotels and turists places. That is why this analysis will lean, for the most part, in a tourist view.   \n",
    "The DataFrame will have to the follow columns:\n",
    "\n",
    "- **Provincia**\n",
    "- **Capital**\n",
    "- **Comuna**\n",
    "- **Latitude**\n",
    "- **Longitude**\n",
    "\n"
   ]
  },
  {
   "cell_type": "code",
   "execution_count": null,
   "metadata": {},
   "outputs": [],
   "source": []
  }
 ],
 "metadata": {
  "kernelspec": {
   "display_name": "Python 3",
   "language": "python",
   "name": "python3"
  },
  "language_info": {
   "codemirror_mode": {
    "name": "ipython",
    "version": 3
   },
   "file_extension": ".py",
   "mimetype": "text/x-python",
   "name": "python",
   "nbconvert_exporter": "python",
   "pygments_lexer": "ipython3",
   "version": "3.7.6"
  }
 },
 "nbformat": 4,
 "nbformat_minor": 4
}
